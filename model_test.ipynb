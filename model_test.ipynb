{
 "cells": [
  {
   "cell_type": "code",
   "execution_count": 4,
   "metadata": {},
   "outputs": [
    {
     "name": "stdout",
     "output_type": "stream",
     "text": [
      "The autoreload extension is already loaded. To reload it, use:\n",
      "  %reload_ext autoreload\n"
     ]
    },
    {
     "ename": "SyntaxError",
     "evalue": "invalid syntax (tsc_utils.py, line 61)",
     "output_type": "error",
     "traceback": [
      "\u001b[0;36m  File \u001b[0;32m\"tsc_utils.py\"\u001b[0;36m, line \u001b[0;32m61\u001b[0m\n\u001b[0;31m    X_train, y_train = augment_data(X_train, y_train, **setting, factor=aug_factor)\u001b[0m\n\u001b[0m                                                               ^\u001b[0m\n\u001b[0;31mSyntaxError\u001b[0m\u001b[0;31m:\u001b[0m invalid syntax\n"
     ]
    }
   ],
   "source": [
    "import matplotlib.pyplot as plt\n",
    "%matplotlib inline\n",
    "\n",
    "%load_ext autoreload\n",
    "%autoreload 2\n",
    "\n",
    "import numpy as np\n",
    "import pandas as pd\n",
    "from tqdm import tqdm\n",
    "import sys\n",
    "import pickle\n",
    "import tensorflow as tf\n",
    "from sklearn.utils import shuffle\n",
    "import tsc_utils as tu\n",
    "import time\n",
    "import datetime"
   ]
  },
  {
   "cell_type": "code",
   "execution_count": 3,
   "metadata": {},
   "outputs": [
    {
     "ename": "NameError",
     "evalue": "name 'tu' is not defined",
     "output_type": "error",
     "traceback": [
      "\u001b[0;31m---------------------------------------------------------------------------\u001b[0m",
      "\u001b[0;31mNameError\u001b[0m                                 Traceback (most recent call last)",
      "\u001b[0;32m<ipython-input-3-517ffa66695c>\u001b[0m in \u001b[0;36m<module>\u001b[0;34m()\u001b[0m\n\u001b[1;32m      1\u001b[0m model_list = [\n\u001b[0;32m----> 2\u001b[0;31m     \u001b[0mdict\u001b[0m\u001b[0;34m(\u001b[0m\u001b[0mmodel\u001b[0m \u001b[0;34m=\u001b[0m \u001b[0mtu\u001b[0m\u001b[0;34m.\u001b[0m\u001b[0mlenet\u001b[0m\u001b[0;34m,\u001b[0m \u001b[0mmodel_params\u001b[0m \u001b[0;34m=\u001b[0m \u001b[0mtu\u001b[0m\u001b[0;34m.\u001b[0m\u001b[0mparams_orig_lenet\u001b[0m\u001b[0;34m)\u001b[0m\u001b[0;34m,\u001b[0m\u001b[0;34m\u001b[0m\u001b[0m\n\u001b[0m\u001b[1;32m      3\u001b[0m     \u001b[0mdict\u001b[0m\u001b[0;34m(\u001b[0m\u001b[0mmodel\u001b[0m \u001b[0;34m=\u001b[0m \u001b[0mtu\u001b[0m\u001b[0;34m.\u001b[0m\u001b[0mlenet\u001b[0m\u001b[0;34m,\u001b[0m \u001b[0mmodel_params\u001b[0m \u001b[0;34m=\u001b[0m \u001b[0mtu\u001b[0m\u001b[0;34m.\u001b[0m\u001b[0mparams_big_lenet\u001b[0m\u001b[0;34m)\u001b[0m\u001b[0;34m,\u001b[0m\u001b[0;34m\u001b[0m\u001b[0m\n\u001b[1;32m      4\u001b[0m     \u001b[0mdict\u001b[0m\u001b[0;34m(\u001b[0m\u001b[0mmodel\u001b[0m \u001b[0;34m=\u001b[0m \u001b[0mtu\u001b[0m\u001b[0;34m.\u001b[0m\u001b[0msermanet\u001b[0m\u001b[0;34m,\u001b[0m \u001b[0mmodel_params\u001b[0m \u001b[0;34m=\u001b[0m \u001b[0mtu\u001b[0m\u001b[0;34m.\u001b[0m\u001b[0mparams_sermanet\u001b[0m\u001b[0;34m)\u001b[0m\u001b[0;34m,\u001b[0m\u001b[0;34m\u001b[0m\u001b[0m\n\u001b[1;32m      5\u001b[0m     \u001b[0mdict\u001b[0m\u001b[0;34m(\u001b[0m\u001b[0mmodel\u001b[0m \u001b[0;34m=\u001b[0m \u001b[0mtu\u001b[0m\u001b[0;34m.\u001b[0m\u001b[0msermanet\u001b[0m\u001b[0;34m,\u001b[0m \u001b[0mmodel_params\u001b[0m \u001b[0;34m=\u001b[0m \u001b[0mtu\u001b[0m\u001b[0;34m.\u001b[0m\u001b[0mparams_sermanet_big\u001b[0m\u001b[0;34m)\u001b[0m\u001b[0;34m,\u001b[0m\u001b[0;34m\u001b[0m\u001b[0m\n",
      "\u001b[0;31mNameError\u001b[0m: name 'tu' is not defined"
     ]
    }
   ],
   "source": [
    "model_list = [\n",
    "    dict(model = tu.lenet, model_params = tu.params_orig_lenet),\n",
    "    dict(model = tu.lenet, model_params = tu.params_big_lenet),\n",
    "    dict(model = tu.sermanet, model_params = tu.params_sermanet),\n",
    "    dict(model = tu.sermanet, model_params = tu.params_sermanet_big),\n",
    "    dict(model = tu.sermanet_v2, model_params = tu.params_sermanet_v2)\n",
    "]\n",
    "for m in model_list:\n",
    "    g = tf.Graph()\n",
    "    with g.as_default():\n",
    "        model = m['model']\n",
    "        model_params = m['model_params']\n",
    "\n",
    "        x = tf.placeholder(tf.float32, (None, 32, 32, 1))\n",
    "        y = tf.placeholder(tf.int32, (None))\n",
    "        one_hot_y = tf.one_hot(y, model_params['num_classes'])\n",
    "        is_training = tf.placeholder(tf.bool)\n",
    "\n",
    "        logits = model(x, params=model_params, is_training=is_training)\n",
    "        \n",
    "    with tf.Session(graph=g) as sess:\n",
    "        total_parameters = 0\n",
    "        for variable in tf.trainable_variables():\n",
    "            # shape is an array of tf.Dimension\n",
    "            shape = variable.get_shape()\n",
    "            print(variable)\n",
    "            print(shape)\n",
    "            #print(len(shape))\n",
    "            variable_parametes = 1\n",
    "            for dim in shape:\n",
    "                #print(dim)\n",
    "                variable_parametes *= dim.value\n",
    "            #print(variable_parametes)\n",
    "            total_parameters += variable_parametes\n",
    "        print(total_parameters)\n",
    "        m['total_parameters']=total_parameters"
   ]
  },
  {
   "cell_type": "code",
   "execution_count": 24,
   "metadata": {},
   "outputs": [
    {
     "name": "stdout",
     "output_type": "stream",
     "text": [
      "<tf.Variable 'conv1/weights:0' shape=(5, 5, 1, 64) dtype=float32_ref>\n",
      "(5, 5, 1, 64)\n",
      "<tf.Variable 'conv1/biases:0' shape=(64,) dtype=float32_ref>\n",
      "(64,)\n",
      "<tf.Variable 'conv2/weights:0' shape=(5, 5, 64, 128) dtype=float32_ref>\n",
      "(5, 5, 64, 128)\n",
      "<tf.Variable 'conv2/biases:0' shape=(128,) dtype=float32_ref>\n",
      "(128,)\n",
      "<tf.Variable 'conv3/weights:0' shape=(5, 5, 128, 256) dtype=float32_ref>\n",
      "(5, 5, 128, 256)\n",
      "<tf.Variable 'conv3/biases:0' shape=(256,) dtype=float32_ref>\n",
      "(256,)\n",
      "<tf.Variable 'fc4/weights:0' shape=(7168, 2048) dtype=float32_ref>\n",
      "(7168, 2048)\n",
      "<tf.Variable 'fc4/biases:0' shape=(2048,) dtype=float32_ref>\n",
      "(2048,)\n",
      "<tf.Variable 'out/weights:0' shape=(2048, 43) dtype=float32_ref>\n",
      "(2048, 43)\n",
      "<tf.Variable 'out/biases:0' shape=(43,) dtype=float32_ref>\n",
      "(43,)\n",
      "15796267\n"
     ]
    }
   ],
   "source": []
  },
  {
   "cell_type": "code",
   "execution_count": null,
   "metadata": {
    "collapsed": true
   },
   "outputs": [],
   "source": []
  }
 ],
 "metadata": {
  "kernelspec": {
   "display_name": "Python 2",
   "language": "python",
   "name": "python2"
  },
  "language_info": {
   "codemirror_mode": {
    "name": "ipython",
    "version": 2
   },
   "file_extension": ".py",
   "mimetype": "text/x-python",
   "name": "python",
   "nbconvert_exporter": "python",
   "pygments_lexer": "ipython2",
   "version": "2.7.13"
  }
 },
 "nbformat": 4,
 "nbformat_minor": 2
}
